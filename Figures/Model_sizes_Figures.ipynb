{
 "cells": [
  {
   "cell_type": "code",
   "execution_count": 2,
   "id": "b265083d-6aff-478f-95a8-c87b04c92f4b",
   "metadata": {},
   "outputs": [],
   "source": [
    "import pandas as pd\n",
    "import numpy as np\n",
    "from scipy import stats\n",
    "import matplotlib.pyplot as plt\n",
    "from matplotlib.gridspec import GridSpec\n",
    "from scipy import stats\n",
    "from scipy.stats import gaussian_kde"
   ]
  },
  {
   "cell_type": "code",
   "execution_count": 3,
   "id": "947fecdd-2f63-4459-87a0-deaf1908ea70",
   "metadata": {},
   "outputs": [],
   "source": [
    "single_mut = {'YAP1':[],'TEM1':[],'RRM':[]}\n",
    "epi = {'YAP1':[(35,0.2612),(150,0.3163),(650,0.3444),(3000,0.3048), ('ESM1v',650,0.3484)],\n",
    "       'TEM1':[(35,0.2149),(150,0.296),(650,0.3748),(3000,0.1442),('ESM1v',650,0.3828)],\n",
    "       'RRM':[(35,0.2543),(150,0.2481),(650,0.2633),(3000,0.2503), ('ESM1v',650, 0.1998)]}"
   ]
  },
  {
   "cell_type": "code",
   "execution_count": 4,
   "id": "a9c422e1-3603-40c4-afd4-1b1aef2174af",
   "metadata": {},
   "outputs": [],
   "source": [
    "# Compute averaged parameters for two groups\n",
    "avg_params = {\n",
    "    \"1st\": (1, 0.5565, 8.1951),\n",
    "    \"2nd\": (1, 0.4562, 9.3169)\n",
    "}\n",
    "# Define logistic function\n",
    "def transf(x, a, b, c):\n",
    "    return -a * np.log(1 + np.exp(-b * (x + c)))"
   ]
  },
  {
   "cell_type": "code",
   "execution_count": 5,
   "id": "eb125b26-097e-4d54-99d7-82a2ec2adfe5",
   "metadata": {},
   "outputs": [
    {
     "data": {
      "text/html": [
       "<div>\n",
       "<style scoped>\n",
       "    .dataframe tbody tr th:only-of-type {\n",
       "        vertical-align: middle;\n",
       "    }\n",
       "\n",
       "    .dataframe tbody tr th {\n",
       "        vertical-align: top;\n",
       "    }\n",
       "\n",
       "    .dataframe thead th {\n",
       "        text-align: right;\n",
       "    }\n",
       "</style>\n",
       "<table border=\"1\" class=\"dataframe\">\n",
       "  <thead>\n",
       "    <tr style=\"text-align: right;\">\n",
       "      <th></th>\n",
       "      <th>mutant_concat</th>\n",
       "      <th>llm_single_mut</th>\n",
       "      <th>expt_single_mut</th>\n",
       "    </tr>\n",
       "  </thead>\n",
       "  <tbody>\n",
       "    <tr>\n",
       "      <th>0</th>\n",
       "      <td>D10E</td>\n",
       "      <td>-3.190041</td>\n",
       "      <td>0.371315</td>\n",
       "    </tr>\n",
       "    <tr>\n",
       "      <th>1</th>\n",
       "      <td>L30M</td>\n",
       "      <td>-4.521028</td>\n",
       "      <td>-0.300061</td>\n",
       "    </tr>\n",
       "    <tr>\n",
       "      <th>2</th>\n",
       "      <td>G16A</td>\n",
       "      <td>-7.120153</td>\n",
       "      <td>-1.187056</td>\n",
       "    </tr>\n",
       "    <tr>\n",
       "      <th>3</th>\n",
       "      <td>V11H</td>\n",
       "      <td>-4.108610</td>\n",
       "      <td>0.788732</td>\n",
       "    </tr>\n",
       "    <tr>\n",
       "      <th>4</th>\n",
       "      <td>R27P</td>\n",
       "      <td>-2.708509</td>\n",
       "      <td>0.316449</td>\n",
       "    </tr>\n",
       "    <tr>\n",
       "      <th>...</th>\n",
       "      <td>...</td>\n",
       "      <td>...</td>\n",
       "      <td>...</td>\n",
       "    </tr>\n",
       "    <tr>\n",
       "      <th>341</th>\n",
       "      <td>S24V</td>\n",
       "      <td>-6.981499</td>\n",
       "      <td>-0.060106</td>\n",
       "    </tr>\n",
       "    <tr>\n",
       "      <th>342</th>\n",
       "      <td>T36H</td>\n",
       "      <td>-6.789945</td>\n",
       "      <td>-1.076516</td>\n",
       "    </tr>\n",
       "    <tr>\n",
       "      <th>343</th>\n",
       "      <td>G25L</td>\n",
       "      <td>-9.654889</td>\n",
       "      <td>-1.203792</td>\n",
       "    </tr>\n",
       "    <tr>\n",
       "      <th>344</th>\n",
       "      <td>T36D</td>\n",
       "      <td>-7.235872</td>\n",
       "      <td>-2.138792</td>\n",
       "    </tr>\n",
       "    <tr>\n",
       "      <th>345</th>\n",
       "      <td>L30T</td>\n",
       "      <td>-3.484015</td>\n",
       "      <td>-1.407007</td>\n",
       "    </tr>\n",
       "  </tbody>\n",
       "</table>\n",
       "<p>346 rows × 3 columns</p>\n",
       "</div>"
      ],
      "text/plain": [
       "    mutant_concat  llm_single_mut  expt_single_mut\n",
       "0            D10E       -3.190041         0.371315\n",
       "1            L30M       -4.521028        -0.300061\n",
       "2            G16A       -7.120153        -1.187056\n",
       "3            V11H       -4.108610         0.788732\n",
       "4            R27P       -2.708509         0.316449\n",
       "..            ...             ...              ...\n",
       "341          S24V       -6.981499        -0.060106\n",
       "342          T36H       -6.789945        -1.076516\n",
       "343          G25L       -9.654889        -1.203792\n",
       "344          T36D       -7.235872        -2.138792\n",
       "345          L30T       -3.484015        -1.407007\n",
       "\n",
       "[346 rows x 3 columns]"
      ]
     },
     "execution_count": 5,
     "metadata": {},
     "output_type": "execute_result"
    }
   ],
   "source": [
    "df = pd.read_csv('Working_Data/35/esm2_35_unique_single_mutations_YAP1.csv')\n",
    "#df = df.dropna(subset=['Epistasis'])\n",
    "# remove all nans\n",
    "#df = df[~df.apply(lambda row: row.astype(str).str.contains('log\\(1e-6\\)').any(), axis=1)]\n",
    "#df = df[~df.apply(lambda row: row.astype(str).str.contains('1e-06').any(), axis=1)]\n",
    "df"
   ]
  },
  {
   "cell_type": "code",
   "execution_count": 6,
   "id": "0cf8fee8-53df-42de-8142-4ec35a20de41",
   "metadata": {},
   "outputs": [
    {
     "name": "stdout",
     "output_type": "stream",
     "text": [
      "Pearson correlation: 0.49352426381809683\n",
      "P-value: 1.2156855495346472e-22\n"
     ]
    }
   ],
   "source": [
    "s = df['expt_single_mut']\n",
    "sllm = df['llm_single_mut']\n",
    "\n",
    "# Apply nonlinear function with '1st' parameters to mut1 and mut2\n",
    "sllmt = transf(sllm, *avg_params[\"1st\"])\n",
    "\n",
    "# Filter out NaNs\n",
    "mask = ~np.isnan(s) & ~np.isnan(sllmt)\n",
    "x_filtered = sllmt[mask]\n",
    "y_filtered = s[mask]\n",
    "# Compute Pearson correlation\n",
    "corr, pval = stats.pearsonr(x_filtered, y_filtered)\n",
    "print(\"Pearson correlation:\", corr)\n",
    "print(\"P-value:\", pval)\n",
    "#curr =single_mut['YAP1']\n",
    "#curr.append((35,corr))\n",
    "single_mut['YAP1'].append((35,corr)) "
   ]
  },
  {
   "cell_type": "code",
   "execution_count": 7,
   "id": "636648df-aab5-4f9b-a028-1ee21d8bee57",
   "metadata": {},
   "outputs": [
    {
     "name": "stdout",
     "output_type": "stream",
     "text": [
      "Pearson correlation: 0.6090151331146659\n",
      "P-value: 1.6844833335574727e-36\n"
     ]
    }
   ],
   "source": [
    "# Compute averaged parameters for two groups\n",
    "avg_params = {\n",
    "    \"1st\": (1, 0.5166, 7.3834),\n",
    "    \"2nd\": (1, 0.3782, 9.1546)\n",
    "}\n",
    "\n",
    "df = pd.read_csv('Working_Data/150/esm2_150_unique_single_mutations_YAP1.csv')\n",
    "s = df['expt_single_mut']\n",
    "sllm = df['llm_single_mut']\n",
    "\n",
    "# Apply nonlinear function with '1st' parameters to mut1 and mut2\n",
    "sllmt = transf(sllm, *avg_params[\"1st\"])\n",
    "\n",
    "# Filter out NaNs\n",
    "mask = ~np.isnan(s) & ~np.isnan(sllmt)\n",
    "x_filtered = sllmt[mask]\n",
    "y_filtered = s[mask]\n",
    "# Compute Pearson correlation\n",
    "corr, pval = stats.pearsonr(x_filtered, y_filtered)\n",
    "print(\"Pearson correlation:\", corr)\n",
    "print(\"P-value:\", pval)\n",
    "#curr =single_mut['YAP1']\n",
    "#curr.append((35,corr))\n",
    "single_mut['YAP1'].append((150,corr)) "
   ]
  },
  {
   "cell_type": "code",
   "execution_count": 8,
   "id": "e1e98c7e-5509-428f-b03a-a19b84db13b4",
   "metadata": {},
   "outputs": [
    {
     "name": "stdout",
     "output_type": "stream",
     "text": [
      "Pearson correlation: 0.6594191899774722\n",
      "P-value: 1.5377569784272115e-44\n"
     ]
    }
   ],
   "source": [
    "avg_params = {\n",
    "    \"1st\": (1, 0.5492, 7.2232),\n",
    "    \"2nd\": (1, 0.4354, 8.7439)\n",
    "}\n",
    "\n",
    "df = pd.read_csv('Working_Data/650/esm2_650_unique_single_mutations_YAP1.csv')\n",
    "s = df['expt_single_mut']\n",
    "sllm = df['llm_single_mut']\n",
    "\n",
    "# Apply nonlinear function with '1st' parameters to mut1 and mut2\n",
    "sllmt = transf(sllm, *avg_params[\"1st\"])\n",
    "\n",
    "# Filter out NaNs\n",
    "mask = ~np.isnan(s) & ~np.isnan(sllmt)\n",
    "x_filtered = sllmt[mask]\n",
    "y_filtered = s[mask]\n",
    "# Compute Pearson correlation\n",
    "corr, pval = stats.pearsonr(x_filtered, y_filtered)\n",
    "print(\"Pearson correlation:\", corr)\n",
    "print(\"P-value:\", pval)\n",
    "#curr =single_mut['YAP1']\n",
    "#curr.append((35,corr))\n",
    "single_mut['YAP1'].append((650,corr)) "
   ]
  },
  {
   "cell_type": "code",
   "execution_count": 9,
   "id": "cb3ab015-c857-4f75-9394-eb49bc8aadf2",
   "metadata": {},
   "outputs": [
    {
     "name": "stdout",
     "output_type": "stream",
     "text": [
      "Pearson correlation: 0.5903679325964316\n",
      "P-value: 7.0673222544416785e-34\n"
     ]
    }
   ],
   "source": [
    "avg_params = {\n",
    "    \"1st\": (1, 0.426, 7.6023),\n",
    "    \"2nd\": (1, 0.3692, 9.4259)\n",
    "}\n",
    "\n",
    "df = pd.read_csv('Working_Data/3000/esm2_3b_unique_single_mutations_YAP1.csv')\n",
    "s = df['expt_single_mut']\n",
    "sllm = df['llm_single_mut']\n",
    "\n",
    "# Apply nonlinear function with '1st' parameters to mut1 and mut2\n",
    "sllmt = transf(sllm, *avg_params[\"1st\"])\n",
    "\n",
    "# Filter out NaNs\n",
    "mask = ~np.isnan(s) & ~np.isnan(sllmt)\n",
    "x_filtered = sllmt[mask]\n",
    "y_filtered = s[mask]\n",
    "# Compute Pearson correlation\n",
    "corr, pval = stats.pearsonr(x_filtered, y_filtered)\n",
    "print(\"Pearson correlation:\", corr)\n",
    "print(\"P-value:\", pval)\n",
    "#curr =single_mut['YAP1']\n",
    "#curr.append((35,corr))\n",
    "single_mut['YAP1'].append((3000,corr)) "
   ]
  },
  {
   "cell_type": "code",
   "execution_count": 10,
   "id": "a00ca419-930d-47c7-baa9-89ff02eea5d4",
   "metadata": {},
   "outputs": [
    {
     "name": "stdout",
     "output_type": "stream",
     "text": [
      "Pearson correlation: 0.6144860425246871\n",
      "P-value: 2.6520707870634746e-37\n"
     ]
    }
   ],
   "source": [
    "avg_params = {\n",
    "    \"1st\": (1, 0.5565, 8.1951),\n",
    "    \"2nd\": (1, 0.4562, 9.3169)\n",
    "}\n",
    "\n",
    "df = pd.read_csv('Working_Data/1_650/esm1_unique_single_mutations_YAP1.csv')\n",
    "s = df['expt_single_mut']\n",
    "sllm = df['llm_single_mut']\n",
    "\n",
    "# Apply nonlinear function with '1st' parameters to mut1 and mut2\n",
    "sllmt = transf(sllm, *avg_params[\"1st\"])\n",
    "\n",
    "# Filter out NaNs\n",
    "mask = ~np.isnan(s) & ~np.isnan(sllmt)\n",
    "x_filtered = sllmt[mask]\n",
    "y_filtered = s[mask]\n",
    "# Compute Pearson correlation\n",
    "corr, pval = stats.pearsonr(x_filtered, y_filtered)\n",
    "print(\"Pearson correlation:\", corr)\n",
    "print(\"P-value:\", pval)\n",
    "#curr =single_mut['YAP1']\n",
    "#curr.append((35,corr))\n",
    "single_mut['YAP1'].append(('ESM1v',650,corr)) "
   ]
  },
  {
   "cell_type": "code",
   "execution_count": null,
   "id": "86c82f66-e817-4ebe-b7b0-f37469a5ac96",
   "metadata": {},
   "outputs": [],
   "source": []
  },
  {
   "cell_type": "code",
   "execution_count": 11,
   "id": "af7d0ec6-8c5b-4c5d-9644-c1143bcb1256",
   "metadata": {},
   "outputs": [
    {
     "name": "stdout",
     "output_type": "stream",
     "text": [
      "Pearson correlation: 0.545055141238051\n",
      "P-value: 0.0\n"
     ]
    }
   ],
   "source": [
    "avg_params = {\n",
    "    \"1st\": (1, 0.6933, 4.1261),\n",
    "    \"2nd\": (1, 0.4968, 2.3406)\n",
    "}\n",
    "\n",
    "\n",
    "df = pd.read_csv('Working_Data/35/esm2_35_unique_single_mutations_TEM1.csv')\n",
    "#df = df.dropna(subset=['Epistasis'])\n",
    "# remove all nans\n",
    "#df = df[~df.apply(lambda row: row.astype(str).str.contains('log\\(1e-6\\)').any(), axis=1)]\n",
    "#df = df[~df.apply(lambda row: row.astype(str).str.contains('1e-06').any(), axis=1)]\n",
    "s = df['expt_single_mut']\n",
    "sllm = df['llm_single_mut']\n",
    "\n",
    "# Apply nonlinear function with '1st' parameters to mut1 and mut2\n",
    "sllmt = transf(sllm, *avg_params[\"1st\"])\n",
    "\n",
    "# Filter out NaNs\n",
    "mask = ~np.isnan(s) & ~np.isnan(sllmt)\n",
    "x_filtered = sllmt[mask]\n",
    "y_filtered = s[mask]\n",
    "# Compute Pearson correlation\n",
    "corr, pval = stats.pearsonr(x_filtered, y_filtered)\n",
    "print(\"Pearson correlation:\", corr)\n",
    "print(\"P-value:\", pval)\n",
    "#curr =single_mut['YAP1']\n",
    "#curr.append((35,corr))\n",
    "single_mut['TEM1'].append((35,corr)) "
   ]
  },
  {
   "cell_type": "code",
   "execution_count": 12,
   "id": "302ea48e-3477-4e3c-bb04-f8d20b736cdf",
   "metadata": {},
   "outputs": [
    {
     "name": "stdout",
     "output_type": "stream",
     "text": [
      "Pearson correlation: 0.6041277417018823\n",
      "P-value: 0.0\n"
     ]
    }
   ],
   "source": [
    "avg_params = {\n",
    "    \"1st\": (1, 0.6514, 5.4992),\n",
    "    \"2nd\": (1, 0.4572, 3.4637)\n",
    "}\n",
    "\n",
    "\n",
    "df = pd.read_csv('Working_Data/150/esm2_150_unique_single_mutations_TEM1.csv')\n",
    "#df = df.dropna(subset=['Epistasis'])\n",
    "# remove all nans\n",
    "#df = df[~df.apply(lambda row: row.astype(str).str.contains('log\\(1e-6\\)').any(), axis=1)]\n",
    "#df = df[~df.apply(lambda row: row.astype(str).str.contains('1e-06').any(), axis=1)]\n",
    "s = df['expt_single_mut']\n",
    "sllm = df['llm_single_mut']\n",
    "\n",
    "# Apply nonlinear function with '1st' parameters to mut1 and mut2\n",
    "sllmt = transf(sllm, *avg_params[\"1st\"])\n",
    "\n",
    "# Filter out NaNs\n",
    "mask = ~np.isnan(s) & ~np.isnan(sllmt)\n",
    "x_filtered = sllmt[mask]\n",
    "y_filtered = s[mask]\n",
    "# Compute Pearson correlation\n",
    "corr, pval = stats.pearsonr(x_filtered, y_filtered)\n",
    "print(\"Pearson correlation:\", corr)\n",
    "print(\"P-value:\", pval)\n",
    "#curr =single_mut['YAP1']\n",
    "#curr.append((35,corr))\n",
    "single_mut['TEM1'].append((150,corr)) "
   ]
  },
  {
   "cell_type": "code",
   "execution_count": 13,
   "id": "2aa686d7-03ec-4cd2-92f7-0b527f46fafe",
   "metadata": {},
   "outputs": [
    {
     "name": "stdout",
     "output_type": "stream",
     "text": [
      "Pearson correlation: 0.6912040651105138\n",
      "P-value: 0.0\n"
     ]
    }
   ],
   "source": [
    "avg_params = {\n",
    "    \"1st\": (1,0.6639, 7.2371),\n",
    "    \"2nd\": (1, 0.4298, 4.6874)\n",
    "}\n",
    "\n",
    "\n",
    "df = pd.read_csv('Working_Data/650/esm2_650_unique_single_mutations_TEM1.csv')\n",
    "#df = df.dropna(subset=['Epistasis'])\n",
    "# remove all nans\n",
    "#df = df[~df.apply(lambda row: row.astype(str).str.contains('log\\(1e-6\\)').any(), axis=1)]\n",
    "#df = df[~df.apply(lambda row: row.astype(str).str.contains('1e-06').any(), axis=1)]\n",
    "s = df['expt_single_mut']\n",
    "sllm = df['llm_single_mut']\n",
    "\n",
    "# Apply nonlinear function with '1st' parameters to mut1 and mut2\n",
    "sllmt = transf(sllm, *avg_params[\"1st\"])\n",
    "\n",
    "# Filter out NaNs\n",
    "mask = ~np.isnan(s) & ~np.isnan(sllmt)\n",
    "x_filtered = sllmt[mask]\n",
    "y_filtered = s[mask]\n",
    "# Compute Pearson correlation\n",
    "corr, pval = stats.pearsonr(x_filtered, y_filtered)\n",
    "print(\"Pearson correlation:\", corr)\n",
    "print(\"P-value:\", pval)\n",
    "#curr =single_mut['YAP1']\n",
    "#curr.append((35,corr))\n",
    "single_mut['TEM1'].append((650,corr)) "
   ]
  },
  {
   "cell_type": "code",
   "execution_count": 14,
   "id": "97a01ff6-a6bd-4450-b9fd-33e11f55cb42",
   "metadata": {},
   "outputs": [
    {
     "name": "stdout",
     "output_type": "stream",
     "text": [
      "Pearson correlation: 0.4808214116995809\n",
      "P-value: 2.518598455818565e-260\n"
     ]
    }
   ],
   "source": [
    "avg_params = {\n",
    "    \"1st\": (1,0.4213, 8.8965),\n",
    "    \"2nd\": (1, 0.2995, 5.9639)\n",
    "}\n",
    "\n",
    "\n",
    "df = pd.read_csv('Working_Data/3000/esm2_3b_unique_single_mutations_TEM1.csv')\n",
    "#df = df.dropna(subset=['Epistasis'])\n",
    "# remove all nans\n",
    "#df = df[~df.apply(lambda row: row.astype(str).str.contains('log\\(1e-6\\)').any(), axis=1)]\n",
    "#df = df[~df.apply(lambda row: row.astype(str).str.contains('1e-06').any(), axis=1)]\n",
    "s = df['expt_single_mut']\n",
    "sllm = df['llm_single_mut']\n",
    "\n",
    "# Apply nonlinear function with '1st' parameters to mut1 and mut2\n",
    "sllmt = transf(sllm, *avg_params[\"1st\"])\n",
    "\n",
    "# Filter out NaNs\n",
    "mask = ~np.isnan(s) & ~np.isnan(sllmt)\n",
    "x_filtered = sllmt[mask]\n",
    "y_filtered = s[mask]\n",
    "# Compute Pearson correlation\n",
    "corr, pval = stats.pearsonr(x_filtered, y_filtered)\n",
    "print(\"Pearson correlation:\", corr)\n",
    "print(\"P-value:\", pval)\n",
    "#curr =single_mut['YAP1']\n",
    "#curr.append((35,corr))\n",
    "single_mut['TEM1'].append((3000,corr)) "
   ]
  },
  {
   "cell_type": "code",
   "execution_count": 15,
   "id": "d3453db5-24f6-4a67-a763-5fcf1eaf2304",
   "metadata": {},
   "outputs": [
    {
     "name": "stdout",
     "output_type": "stream",
     "text": [
      "Pearson correlation: 0.6844902704760784\n",
      "P-value: 0.0\n"
     ]
    }
   ],
   "source": [
    "avg_params = {\n",
    "    \"1st\": (1, 0.5305, 7.4275),\n",
    "    \"2nd\": (1, 0.3379, 4.2474)\n",
    "}\n",
    "\n",
    "\n",
    "df = pd.read_csv('Working_Data/1_650/esm1_unique_single_mutations_TEM1.csv')\n",
    "#df = df.dropna(subset=['Epistasis'])\n",
    "# remove all nans\n",
    "#df = df[~df.apply(lambda row: row.astype(str).str.contains('log\\(1e-6\\)').any(), axis=1)]\n",
    "#df = df[~df.apply(lambda row: row.astype(str).str.contains('1e-06').any(), axis=1)]\n",
    "s = df['expt_single_mut']\n",
    "sllm = df['llm_single_mut']\n",
    "\n",
    "# Apply nonlinear function with '1st' parameters to mut1 and mut2\n",
    "sllmt = transf(sllm, *avg_params[\"1st\"])\n",
    "\n",
    "# Filter out NaNs\n",
    "mask = ~np.isnan(s) & ~np.isnan(sllmt)\n",
    "x_filtered = sllmt[mask]\n",
    "y_filtered = s[mask]\n",
    "# Compute Pearson correlation\n",
    "corr, pval = stats.pearsonr(x_filtered, y_filtered)\n",
    "print(\"Pearson correlation:\", corr)\n",
    "print(\"P-value:\", pval)\n",
    "#curr =single_mut['YAP1']\n",
    "#curr.append((35,corr))\n",
    "single_mut['TEM1'].append(('ESM1v',650,corr)) "
   ]
  },
  {
   "cell_type": "code",
   "execution_count": null,
   "id": "5d3bfec1-33fe-4105-824b-68746f72739a",
   "metadata": {},
   "outputs": [],
   "source": []
  },
  {
   "cell_type": "code",
   "execution_count": 16,
   "id": "cabcd794-2b12-4377-ae5d-668315fa8cfd",
   "metadata": {},
   "outputs": [
    {
     "name": "stdout",
     "output_type": "stream",
     "text": [
      "Pearson correlation: 0.5569941986221587\n",
      "P-value: 9.768203873830575e-88\n"
     ]
    }
   ],
   "source": [
    "avg_params = {\n",
    "    \"1st\": (1,0.3872, 11.0279),\n",
    "    \"2nd\": (1, 0.3209, 10.1318)\n",
    "}\n",
    "\n",
    "\n",
    "df = pd.read_csv('Working_Data/35/esm2_35_unique_single_mutations_RRM_Domain.csv')\n",
    "#df = df.dropna(subset=['Epistasis'])\n",
    "# remove all nans\n",
    "#df = df[~df.apply(lambda row: row.astype(str).str.contains('log\\(1e-6\\)').any(), axis=1)]\n",
    "#df = df[~df.apply(lambda row: row.astype(str).str.contains('1e-06').any(), axis=1)]\n",
    "s = df['exp_mut']\n",
    "sllm = df['llm_mut']\n",
    "\n",
    "# Apply nonlinear function with '1st' parameters to mut1 and mut2\n",
    "sllmt = transf(sllm, *avg_params[\"1st\"])\n",
    "\n",
    "# Filter out NaNs\n",
    "mask = ~np.isnan(s) & ~np.isnan(sllmt)\n",
    "x_filtered = sllmt[mask]\n",
    "y_filtered = s[mask]\n",
    "# Compute Pearson correlation\n",
    "corr, pval = stats.pearsonr(x_filtered, y_filtered)\n",
    "print(\"Pearson correlation:\", corr)\n",
    "print(\"P-value:\", pval)\n",
    "#curr =single_mut['YAP1']\n",
    "#curr.append((35,corr))\n",
    "single_mut['RRM'].append((35,corr)) "
   ]
  },
  {
   "cell_type": "code",
   "execution_count": 17,
   "id": "b1548e9b-ed0c-4f7d-8d25-4ba47d79eb77",
   "metadata": {},
   "outputs": [
    {
     "name": "stdout",
     "output_type": "stream",
     "text": [
      "Pearson correlation: 0.6269092103269419\n",
      "P-value: 1.1619608859725894e-114\n"
     ]
    }
   ],
   "source": [
    "avg_params = {\n",
    "    \"1st\": (1,0.4051, 11.0666),\n",
    "    \"2nd\": (1, 0.3454, 10.2324)\n",
    "}\n",
    "\n",
    "\n",
    "df = pd.read_csv('Working_Data/150/RRM2_sample_80_150M_esm2_unique_muts.csv')\n",
    "#df = df.dropna(subset=['Epistasis'])\n",
    "# remove all nans\n",
    "#df = df[~df.apply(lambda row: row.astype(str).str.contains('log\\(1e-6\\)').any(), axis=1)]\n",
    "#df = df[~df.apply(lambda row: row.astype(str).str.contains('1e-06').any(), axis=1)]\n",
    "s = df['exp_mut']\n",
    "sllm = df['llm_mut']\n",
    "\n",
    "# Apply nonlinear function with '1st' parameters to mut1 and mut2\n",
    "sllmt = transf(sllm, *avg_params[\"1st\"])\n",
    "\n",
    "# Filter out NaNs\n",
    "mask = ~np.isnan(s) & ~np.isnan(sllmt)\n",
    "x_filtered = sllmt[mask]\n",
    "y_filtered = s[mask]\n",
    "# Compute Pearson correlation\n",
    "corr, pval = stats.pearsonr(x_filtered, y_filtered)\n",
    "print(\"Pearson correlation:\", corr)\n",
    "print(\"P-value:\", pval)\n",
    "#curr =single_mut['YAP1']\n",
    "#curr.append((35,corr))\n",
    "single_mut['RRM'].append((150,corr)) "
   ]
  },
  {
   "cell_type": "code",
   "execution_count": 18,
   "id": "26882d15-4cac-4e17-9a2b-3ec83f70b923",
   "metadata": {},
   "outputs": [
    {
     "name": "stdout",
     "output_type": "stream",
     "text": [
      "Pearson correlation: 0.5747229980857331\n",
      "P-value: 1.3149681655907033e-73\n"
     ]
    }
   ],
   "source": [
    "avg_params = {\n",
    "    \"1st\": (1,0.327, 13.0243),\n",
    "    \"2nd\": (1, 0.2998, 11.7616)\n",
    "}\n",
    "\n",
    "\n",
    "df = pd.read_csv('Working_Data/650/20_esm2_650_unique_single_mutations_RRM_Domain.csv')\n",
    "#df = df.dropna(subset=['Epistasis'])\n",
    "# remove all nans\n",
    "#df = df[~df.apply(lambda row: row.astype(str).str.contains('log\\(1e-6\\)').any(), axis=1)]\n",
    "#df = df[~df.apply(lambda row: row.astype(str).str.contains('1e-06').any(), axis=1)]\n",
    "s = df['exp_mut']\n",
    "sllm = df['llm_mut']\n",
    "\n",
    "# Apply nonlinear function with '1st' parameters to mut1 and mut2\n",
    "sllmt = transf(sllm, *avg_params[\"1st\"])\n",
    "\n",
    "# Filter out NaNs\n",
    "mask = ~np.isnan(s) & ~np.isnan(sllmt)\n",
    "x_filtered = sllmt[mask]\n",
    "y_filtered = s[mask]\n",
    "# Compute Pearson correlation\n",
    "corr, pval = stats.pearsonr(x_filtered, y_filtered)\n",
    "print(\"Pearson correlation:\", corr)\n",
    "print(\"P-value:\", pval)\n",
    "#curr =single_mut['YAP1']\n",
    "#curr.append((35,corr))\n",
    "single_mut['RRM'].append((650,corr)) "
   ]
  },
  {
   "cell_type": "code",
   "execution_count": 19,
   "id": "ec2f600c-79aa-4f9a-bae8-01703d238f77",
   "metadata": {},
   "outputs": [
    {
     "name": "stdout",
     "output_type": "stream",
     "text": [
      "Pearson correlation: 0.6168268765232708\n",
      "P-value: 5.3725643713120116e-89\n"
     ]
    }
   ],
   "source": [
    "avg_params = {\n",
    "    \"1st\": (1, 0.3299, 12.9564),\n",
    "    \"2nd\": (1, 0.2892, 11.6744)\n",
    "}\n",
    "\n",
    "\n",
    "df = pd.read_csv('Working_Data/3000/20_esm2_3b_unique_single_mutations_RRM_Domain.csv')\n",
    "#df = df.dropna(subset=['Epistasis'])\n",
    "# remove all nans\n",
    "#df = df[~df.apply(lambda row: row.astype(str).str.contains('log\\(1e-6\\)').any(), axis=1)]\n",
    "#df = df[~df.apply(lambda row: row.astype(str).str.contains('1e-06').any(), axis=1)]\n",
    "s = df['exp_mut']\n",
    "sllm = df['llm_mut']\n",
    "\n",
    "# Apply nonlinear function with '1st' parameters to mut1 and mut2\n",
    "sllmt = transf(sllm, *avg_params[\"1st\"])\n",
    "\n",
    "# Filter out NaNs\n",
    "mask = ~np.isnan(s) & ~np.isnan(sllmt)\n",
    "x_filtered = sllmt[mask]\n",
    "y_filtered = s[mask]\n",
    "# Compute Pearson correlation\n",
    "corr, pval = stats.pearsonr(x_filtered, y_filtered)\n",
    "print(\"Pearson correlation:\", corr)\n",
    "print(\"P-value:\", pval)\n",
    "#curr =single_mut['YAP1']\n",
    "#curr.append((35,corr))\n",
    "single_mut['RRM'].append((3000,corr)) "
   ]
  },
  {
   "cell_type": "code",
   "execution_count": 20,
   "id": "92515130-bcd9-4326-91d8-b5b777f6f11d",
   "metadata": {},
   "outputs": [
    {
     "name": "stdout",
     "output_type": "stream",
     "text": [
      "Pearson correlation: 0.5298485245321166\n",
      "P-value: 4.679239593707345e-78\n"
     ]
    }
   ],
   "source": [
    "avg_params = {\n",
    "    \"1st\": (1, 0.2817, 14.0424),\n",
    "    \"2nd\": (1, 0.2713, 12.5865)\n",
    "}\n",
    "\n",
    "\n",
    "df = pd.read_csv('Working_Data/1_650/esm1_unique_single_mutations_RRM_Domain.csv')\n",
    "#df = df.dropna(subset=['Epistasis'])\n",
    "# remove all nans\n",
    "#df = df[~df.apply(lambda row: row.astype(str).str.contains('log\\(1e-6\\)').any(), axis=1)]\n",
    "#df = df[~df.apply(lambda row: row.astype(str).str.contains('1e-06').any(), axis=1)]\n",
    "s = df['exp_mut']\n",
    "sllm = df['llm_mut']\n",
    "\n",
    "# Apply nonlinear function with '1st' parameters to mut1 and mut2\n",
    "sllmt = transf(sllm, *avg_params[\"1st\"])\n",
    "\n",
    "# Filter out NaNs\n",
    "mask = ~np.isnan(s) & ~np.isnan(sllmt)\n",
    "x_filtered = sllmt[mask]\n",
    "y_filtered = s[mask]\n",
    "# Compute Pearson correlation\n",
    "corr, pval = stats.pearsonr(x_filtered, y_filtered)\n",
    "print(\"Pearson correlation:\", corr)\n",
    "print(\"P-value:\", pval)\n",
    "#curr =single_mut['YAP1']\n",
    "#curr.append((35,corr))\n",
    "single_mut['RRM'].append(('ESM1v',650,corr)) "
   ]
  },
  {
   "cell_type": "code",
   "execution_count": 21,
   "id": "650567f9-d3eb-4e50-a2a1-bed7632556c1",
   "metadata": {},
   "outputs": [
    {
     "data": {
      "text/plain": [
       "{'YAP1': [(35, 0.49352426381809683),\n",
       "  (150, 0.6090151331146659),\n",
       "  (650, 0.6594191899774722),\n",
       "  (3000, 0.5903679325964316),\n",
       "  ('ESM1v', 650, 0.6144860425246871)],\n",
       " 'TEM1': [(35, 0.545055141238051),\n",
       "  (150, 0.6041277417018823),\n",
       "  (650, 0.6912040651105138),\n",
       "  (3000, 0.4808214116995809),\n",
       "  ('ESM1v', 650, 0.6844902704760784)],\n",
       " 'RRM': [(35, 0.5569941986221587),\n",
       "  (150, 0.6269092103269419),\n",
       "  (650, 0.5747229980857331),\n",
       "  (3000, 0.6168268765232708),\n",
       "  ('ESM1v', 650, 0.5298485245321166)]}"
      ]
     },
     "execution_count": 21,
     "metadata": {},
     "output_type": "execute_result"
    }
   ],
   "source": [
    "single_mut"
   ]
  },
  {
   "cell_type": "code",
   "execution_count": 22,
   "id": "83c8dd90-c7ff-4cb2-b9b6-631b3978e811",
   "metadata": {},
   "outputs": [
    {
     "ename": "NameError",
     "evalue": "name 'esm1v_score' is not defined",
     "output_type": "error",
     "traceback": [
      "\u001b[0;31m---------------------------------------------------------------------------\u001b[0m",
      "\u001b[0;31mNameError\u001b[0m                                 Traceback (most recent call last)",
      "\u001b[0;32m/tmp/ipykernel_3062668/3710879556.py\u001b[0m in \u001b[0;36m<cell line: 1>\u001b[0;34m()\u001b[0m\n\u001b[0;32m----> 1\u001b[0;31m \u001b[0mesm1v_score\u001b[0m\u001b[0;34m\u001b[0m\u001b[0;34m\u001b[0m\u001b[0m\n\u001b[0m",
      "\u001b[0;31mNameError\u001b[0m: name 'esm1v_score' is not defined"
     ]
    }
   ],
   "source": [
    "esm1v_score"
   ]
  },
  {
   "cell_type": "code",
   "execution_count": 35,
   "id": "f5bb1314-5d30-4932-9a7a-e95cdf495d30",
   "metadata": {},
   "outputs": [
    {
     "data": {
      "image/png": "[encoded data removed]",
      "text/plain": [
       "<Figure size 720x432 with 1 Axes>"
      ]
     },
     "metadata": {
      "needs_background": "light"
     },
     "output_type": "display_data"
    }
   ],
   "source": [
    "# Define colors\n",
    "colors = {\n",
    "    'YAP1': 'hotpink',\n",
    "    'TEM1': 'mediumseagreen',\n",
    "    'RRM': 'royalblue'\n",
    "}\n",
    "\n",
    "fig, ax = plt.subplots(figsize=(10, 6))\n",
    "\n",
    "# Store legend handles to deduplicate later\n",
    "legend_handles = []\n",
    "legend_labels = []\n",
    "\n",
    "for protein in single_mut:\n",
    "    esm2_sizes = []\n",
    "    esm2_scores = []\n",
    "    esm1v_size = None\n",
    "    esm1v_score = None\n",
    "\n",
    "    for entry in single_mut[protein]:\n",
    "        if entry[0] == 'ESM1v':\n",
    "            esm1v_size = entry[1]\n",
    "            esm1v_score = entry[2]\n",
    "        else:\n",
    "            esm2_sizes.append(entry[0])\n",
    "            esm2_scores.append(entry[1])\n",
    "\n",
    "    # Plot ESM2 line\n",
    "    line = ax.plot(esm2_sizes, esm2_scores, label=protein,\n",
    "                   marker='o', color=colors[protein], linewidth=2,ms=10)\n",
    "    legend_handles.append(line[0])\n",
    "    legend_labels.append(protein)\n",
    "\n",
    "    # Plot ESM1v star\n",
    "    star = ax.scatter(esm1v_size, esm1v_score, marker='d', s=100,\n",
    "                      color=colors[protein], edgecolor='black',\n",
    "                      label=f'{protein} (ESM1v)')\n",
    "    legend_handles.append(star)\n",
    "    legend_labels.append(f'{protein} (ESM1v)')\n",
    "\n",
    "# Formatting\n",
    "ax.set_xscale('log')\n",
    "ax.set_xticks([35, 150, 650, 3000], fontsize=20)\n",
    "ax.set_xticklabels(['35M', '150M', '650M', '3B'], fontsize=20)\n",
    "ax.set_xlabel(\"Model Size\", fontsize=25)\n",
    "ax.set_ylabel(\"Pearson Correlation\", fontsize=25)\n",
    "ax.set_title(\"Single Mutation Prediction Across Model Sizes\", fontsize=25)\n",
    "ax.tick_params(axis='both', labelsize=20)\n",
    "ax.grid(True, linestyle='--', alpha=0.5)\n",
    "\n",
    "# Set y-axis range\n",
    "ax.set_ylim(0.3, 0.75)\n",
    "\n",
    "# Remove duplicate labels if any\n",
    "unique_labels = dict(zip(legend_labels, legend_handles))\n",
    "ax.legend(unique_labels.values(), unique_labels.keys(), fontsize=12, loc='lower right')\n",
    "\n",
    "plt.tight_layout()\n",
    "plt.savefig('sizes_single_v1.png',dpi=300)\n",
    "plt.show()"
   ]
  },
  {
   "cell_type": "code",
   "execution_count": 34,
   "id": "29e1c10c-613c-483b-ab1a-e86b5753d6b0",
   "metadata": {},
   "outputs": [
    {
     "data": {
      "image/png": "[encoded data removed]",
      "text/plain": [
       "<Figure size 720x432 with 1 Axes>"
      ]
     },
     "metadata": {
      "needs_background": "light"
     },
     "output_type": "display_data"
    }
   ],
   "source": [
    "# Define colors\n",
    "colors = {\n",
    "    'YAP1': 'hotpink',\n",
    "    'TEM1': 'mediumseagreen',\n",
    "    'RRM': 'royalblue'\n",
    "}\n",
    "\n",
    "fig, ax = plt.subplots(figsize=(10, 6))\n",
    "\n",
    "# Store legend handles to deduplicate later\n",
    "legend_handles = []\n",
    "legend_labels = []\n",
    "\n",
    "for protein in epi:\n",
    "    esm2_sizes = []\n",
    "    esm2_scores = []\n",
    "    esm1v_size = None\n",
    "    esm1v_score = None\n",
    "\n",
    "    for entry in epi[protein]:\n",
    "        if entry[0] == 'ESM1v':\n",
    "            esm1v_size = entry[1]\n",
    "            esm1v_score = entry[2]\n",
    "        else:\n",
    "            esm2_sizes.append(entry[0])\n",
    "            esm2_scores.append(entry[1])\n",
    "\n",
    "    # Plot ESM2 line\n",
    "    line = ax.plot(esm2_sizes, esm2_scores, label=protein,\n",
    "                   marker='o', color=colors[protein], linewidth=2, ms=10)\n",
    "    legend_handles.append(line[0])\n",
    "    legend_labels.append(protein)\n",
    "\n",
    "    # Plot ESM1v star\n",
    "    star = ax.scatter(esm1v_size, esm1v_score, marker='d', s=100,\n",
    "                      color=colors[protein], edgecolor='black',\n",
    "                      label=f'{protein} (ESM1v)')\n",
    "    legend_handles.append(star)\n",
    "    legend_labels.append(f'{protein} (ESM1v)')\n",
    "\n",
    "# Formatting\n",
    "ax.set_xscale('log')\n",
    "ax.set_xticks([35, 150, 650, 3000], fontsize=20)\n",
    "ax.set_xticklabels(['35M', '150M', '650M', '3B'], fontsize=20)\n",
    "ax.set_xlabel(\"Model Size\", fontsize=25)\n",
    "ax.set_ylabel(\"Pearson Correlation\", fontsize=25)\n",
    "ax.set_title(\"Epistasis Prediction Across Model Sizes\", fontsize=25)\n",
    "ax.tick_params(axis='both', labelsize=20)\n",
    "ax.grid(True, linestyle='--', alpha=0.5)\n",
    "\n",
    "# Set y-axis range\n",
    "#ax.set_ylim(0.3, 0.75)\n",
    "\n",
    "# Remove duplicate labels if any\n",
    "unique_labels = dict(zip(legend_labels, legend_handles))\n",
    "ax.legend(unique_labels.values(), unique_labels.keys(), fontsize=12, loc='lower right')\n",
    "\n",
    "plt.tight_layout()\n",
    "plt.savefig('sizes_epi_v1.png',dpi=300)\n",
    "plt.show()"
   ]
  },
  {
   "cell_type": "code",
   "execution_count": null,
   "id": "d1e20c67-4bf9-4431-84f0-d9c96c3508cc",
   "metadata": {},
   "outputs": [],
   "source": []
  }
 ],
 "metadata": {
  "kernelspec": {
   "display_name": "Python [conda env:opence-v1.6.1]",
   "language": "python",
   "name": "conda-env-opence-v1.6.1-py"
  },
  "language_info": {
   "codemirror_mode": {
    "name": "ipython",
    "version": 3
   },
   "file_extension": ".py",
   "mimetype": "text/x-python",
   "name": "python",
   "nbconvert_exporter": "python",
   "pygments_lexer": "ipython3",
   "version": "3.9.12"
  }
 },
 "nbformat": 4,
 "nbformat_minor": 5
}
